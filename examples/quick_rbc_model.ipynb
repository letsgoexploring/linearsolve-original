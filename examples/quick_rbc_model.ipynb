{
 "cells": [
  {
   "cell_type": "markdown",
   "metadata": {},
   "source": [
    "# Quickly Simulate an RBC Model\n",
    "\n",
    "Here I demonstrate how how relatively straightforward it is to appoximate, solve, and simulate a DSGE model using `linearsolve`. In the example that follows, I describe the procedure more carefully.\n",
    "\n",
    "\\begin{align}\n",
    "C_t^{-\\sigma} & = \\beta E_t \\left[C_{t+1}^{-\\sigma}(\\alpha A_{t+1} K_{t+1}^{\\alpha-1} + 1 - \\delta)\\right]\\\\\n",
    "C_t + K_{t+1} & = A_t K_t^{\\alpha} + (1-\\delta)K_t\\\\\n",
    "\\log A_{t+1} & = \\rho_a \\log A_{t} + \\epsilon_{t+1}\n",
    "\\end{align}\n",
    "\n",
    "In the block of code that immediately follows, I input the model, solve for the steady state, compute the log-linear approximation of the equilibirum conditions, and compute some impulse responses following a shock to technology $A_t$."
   ]
  },
  {
   "cell_type": "code",
   "execution_count": 1,
   "metadata": {},
   "outputs": [
    {
     "ename": "SyntaxError",
     "evalue": "'(' was never closed (__init__.py, line 226)",
     "output_type": "error",
     "traceback": [
      "Traceback \u001b[0;36m(most recent call last)\u001b[0m:\n",
      "\u001b[0m  File \u001b[1;32m~/anaconda3/lib/python3.11/site-packages/IPython/core/interactiveshell.py:3508\u001b[0m in \u001b[1;35mrun_code\u001b[0m\n    exec(code_obj, self.user_global_ns, self.user_ns)\u001b[0m\n",
      "\u001b[0;36m  Cell \u001b[0;32mIn[1], line 4\u001b[0;36m\n\u001b[0;31m    import linearsolve as ls\u001b[0;36m\n",
      "\u001b[0;36m  File \u001b[0;32m~/anaconda3/lib/python3.11/site-packages/linearsolve/__init__.py:226\u001b[0;36m\u001b[0m\n\u001b[0;31m    names['shocks'] = np.array([shock_prefix+names['variables'][i] for i in range(self.n_exo_states)]\u001b[0m\n\u001b[0m                              ^\u001b[0m\n\u001b[0;31mSyntaxError\u001b[0m\u001b[0;31m:\u001b[0m '(' was never closed\n"
     ]
    }
   ],
   "source": [
    "# Import numpy, pandas, linearsolve, matplotlib.pyplot\n",
    "import numpy as np\n",
    "import pandas as pd\n",
    "import linearsolve as ls\n",
    "import matplotlib.pyplot as plt\n",
    "plt.style.use('classic')\n",
    "plt.rcParams['figure.facecolor'] = 'white'\n",
    "\n",
    "# Input model parameters\n",
    "parameters = pd.Series(dtype=float)\n",
    "parameters['alpha']  = .35\n",
    "parameters['beta']  = 0.99\n",
    "parameters['delta']   = 0.025\n",
    "parameters['rhoa'] = .9\n",
    "parameters['sigma'] = 1.5\n",
    "parameters['A'] = 1\n",
    "\n",
    "# Funtion that evaluates the equilibrium conditions\n",
    "def equations(variables_forward,variables_current,parameters):\n",
    "    \n",
    "    # Parameters \n",
    "    p = parameters\n",
    "    \n",
    "    # Variables\n",
    "    fwd = variables_forward\n",
    "    cur = variables_current\n",
    "    \n",
    "    # Household Euler equation\n",
    "    euler_eqn = p.beta*fwd.c**-p.sigma*(p.alpha*fwd.a*fwd.k**(p.alpha-1)+1-p.delta) - cur.c**-p.sigma\n",
    "    \n",
    "    # Goods market clearing\n",
    "    market_clearing = cur.c + fwd.k - (1-p.delta)*cur.k - cur.a*cur.k**p.alpha\n",
    "        \n",
    "    # Exogenous technology\n",
    "    technology_proc = p.rhoa*np.log(cur.a) - np.log(fwd.a)\n",
    "    \n",
    "    # Stack equilibrium conditions into a numpy array\n",
    "    return np.array([\n",
    "            euler_eqn,\n",
    "            market_clearing,\n",
    "            technology_proc\n",
    "        ])\n",
    "\n",
    "# Initialize the model\n",
    "model = ls.model(equations = equations,\n",
    "                 n_states=2,\n",
    "                 n_exo_states = 1,\n",
    "                 variables=['a','k','c'],\n",
    "                 parameters = parameters)\n",
    "\n",
    "# Compute the steady state numerically\n",
    "guess = [1,1,1]\n",
    "model.compute_ss(guess)\n",
    "\n",
    "# Find the log-linear approximation around the non-stochastic steady state and solve\n",
    "model.approximate_and_solve()\n",
    "\n",
    "# Compute impulse responses and plot\n",
    "model.impulse(T=41,t0=5,shocks=None)\n",
    "\n",
    "fig = plt.figure(figsize=(12,4))\n",
    "ax1 =fig.add_subplot(1,2,1)\n",
    "model.irs['e_a'][['a','k','c']].plot(lw='5',alpha=0.5,grid=True,ax=ax1).legend(loc='upper right',ncol=3)\n",
    "ax2 =fig.add_subplot(1,2,2)\n",
    "model.irs['e_a'][['e_a','a']].plot(lw='5',alpha=0.5,grid=True,ax=ax2).legend(loc='upper right',ncol=2)"
   ]
  },
  {
   "cell_type": "code",
   "execution_count": null,
   "metadata": {},
   "outputs": [],
   "source": []
  }
 ],
 "metadata": {
  "anaconda-cloud": {},
  "celltoolbar": "Raw Cell Format",
  "kernelspec": {
   "display_name": "Python 3 (ipykernel)",
   "language": "python",
   "name": "python3"
  },
  "language_info": {
   "codemirror_mode": {
    "name": "ipython",
    "version": 3
   },
   "file_extension": ".py",
   "mimetype": "text/x-python",
   "name": "python",
   "nbconvert_exporter": "python",
   "pygments_lexer": "ipython3",
   "version": "3.11.5"
  }
 },
 "nbformat": 4,
 "nbformat_minor": 4
}
